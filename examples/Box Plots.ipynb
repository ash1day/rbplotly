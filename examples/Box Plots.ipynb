{
 "cells": [
  {
   "cell_type": "code",
   "execution_count": null,
   "metadata": {},
   "outputs": [],
   "source": [
    "# Basic Box Plot\n",
    "require 'rbplotly'\n",
    "\n",
    "n = 50\n",
    "y0 = n.times.map { rand(-1.0..0.0) }\n",
    "y1 = n.times.map { rand(0.0..1.0) }\n",
    "\n",
    "trace0 = {\n",
    "  y: y0,\n",
    "  type: :box\n",
    "}\n",
    "\n",
    "trace1 = {\n",
    "  y: y1,\n",
    "  type: :box\n",
    "}\n",
    "\n",
    "data = [trace0, trace1]\n",
    "\n",
    "plot = Plotly::Plot.new(data: data)\n",
    "plot.show"
   ]
  },
  {
   "cell_type": "code",
   "execution_count": null,
   "metadata": {},
   "outputs": [],
   "source": [
    "# Basic Horizontal Box Plot\n",
    "n = 50\n",
    "x0 = n.times.map { rand(-1.0..0.0) }\n",
    "x1 = n.times.map { rand(0.0..1.0) }\n",
    "\n",
    "trace0 = {\n",
    "  x: x0,\n",
    "  type: :box\n",
    "}\n",
    "\n",
    "trace1 = {\n",
    "  x: x1,\n",
    "  type: :box\n",
    "}\n",
    "\n",
    "data = [trace0, trace1]\n",
    "\n",
    "plot = Plotly::Plot.new(data: data)\n",
    "plot.show"
   ]
  },
  {
   "cell_type": "code",
   "execution_count": null,
   "metadata": {},
   "outputs": [],
   "source": [
    "# Box Plot That Displays the Underlying Data\n",
    "trace = {\n",
    "    y: [0, 1, 1, 2, 3, 5, 8, 13, 21],\n",
    "    boxpoints: :all,\n",
    "    jitter: 0.3,\n",
    "    pointpos: -1.8,\n",
    "    type: :box\n",
    "  }\n",
    "\n",
    "plot = Plotly::Plot.new(data: [trace])\n",
    "plot.show"
   ]
  }
 ],
 "metadata": {
  "kernelspec": {
   "display_name": "Ruby 2.4.1",
   "language": "ruby",
   "name": "ruby"
  },
  "language_info": {
   "file_extension": ".rb",
   "mimetype": "application/x-ruby",
   "name": "ruby",
   "version": "2.4.1"
  }
 },
 "nbformat": 4,
 "nbformat_minor": 2
}
